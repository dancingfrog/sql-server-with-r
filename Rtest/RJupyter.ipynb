{
    "metadata": {
        "kernelspec": {
            "name": "ir",
            "display_name": "R",
            "language": "R"
        },
        "language_info": {
            "name": "R",
            "codemirror_mode": "r",
            "pygments_lexer": "r",
            "mimetype": "text/x-r-source",
            "file_extension": ".r",
            "version": "4.0.2"
        }
    },
    "nbformat_minor": 2,
    "nbformat": 4,
    "cells": [
        {
            "cell_type": "code",
            "source": [
                ".libPaths()"
            ],
            "metadata": {
                "azdata_cell_guid": "9035f1d6-b35a-452a-be9b-78b52a867f00",
                "language": "r"
            },
            "outputs": [
                {
                    "data": {
                        "text/html": "<style>\n.list-inline {list-style: none; margin:0; padding: 0}\n.list-inline>li {display: inline-block}\n.list-inline>li:not(:last-child)::after {content: \"\\00b7\"; padding: 0 .5ex}\n</style>\n<ol class=list-inline><li>'C:/Users/jhall/Documents/R/win-library/4.0'</li><li>'C:/Program Files/Microsoft SQL Server/150/R_SERVER/library'</li></ol>\n",
                        "text/markdown": "1. 'C:/Users/jhall/Documents/R/win-library/4.0'\n2. 'C:/Program Files/Microsoft SQL Server/150/R_SERVER/library'\n\n\n",
                        "text/latex": "\\begin{enumerate*}\n\\item 'C:/Users/jhall/Documents/R/win-library/4.0'\n\\item 'C:/Program Files/Microsoft SQL Server/150/R\\_SERVER/library'\n\\end{enumerate*}\n",
                        "text/plain": "[1] \"C:/Users/jhall/Documents/R/win-library/4.0\"                \n[2] \"C:/Program Files/Microsoft SQL Server/150/R_SERVER/library\""
                    },
                    "metadata": {},
                    "output_type": "display_data"
                }
            ],
            "execution_count": 3
        },
        {
            "cell_type": "code",
            "source": [
                "version"
            ],
            "metadata": {
                "language": "r",
                "azdata_cell_guid": "5f525f8f-bbf9-4de5-81b1-c47dc788d9c6"
            },
            "outputs": [
                {
                    "data": {
                        "text/plain": "               _                           \nplatform       x86_64-w64-mingw32          \narch           x86_64                      \nos             mingw32                     \nsystem         x86_64, mingw32             \nstatus                                     \nmajor          4                           \nminor          0.2                         \nyear           2020                        \nmonth          06                          \nday            22                          \nsvn rev        78730                       \nlanguage       R                           \nversion.string R version 4.0.2 (2020-06-22)\nnickname       Taking Off Again            "
                    },
                    "metadata": {},
                    "output_type": "display_data"
                }
            ],
            "execution_count": 4
        }
    ]
}